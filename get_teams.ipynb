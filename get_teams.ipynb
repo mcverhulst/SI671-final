{
 "cells": [
  {
   "cell_type": "code",
   "execution_count": 12,
   "metadata": {},
   "outputs": [],
   "source": [
    "import pandas as pd\n",
    "import seaborn as sns\n",
    "import numpy as np\n",
    "import matplotlib.pyplot as plt\n",
    "import matplotlib.cm as cm\n",
    "# from sklearn.decomposition import PCA\n",
    "# from sklearn.cluster import AgglomerativeClustering\n",
    "# from sklearn.preprocessing import StandardScaler, normalize\n",
    "# from sklearn.metrics import silhouette_score, silhouette_samples\n",
    "# from sklearn.pipeline import Pipeline\n",
    "# from sklearn.impute import SimpleImputer\n",
    "# from sklearn.cluster import KMeans\n",
    "import cluster_utils as utl"
   ]
  },
  {
   "cell_type": "code",
   "execution_count": 20,
   "metadata": {},
   "outputs": [],
   "source": [
    "group1 = ['data/teams/89-90team.csv', 'data/teams/90-91team.csv',\n",
    "          'data/teams/91-92team.csv', 'data/teams/92-93team.csv',\n",
    "          'data/teams/93-94team.csv']\n",
    "\n",
    "group2 = ['data/teams/94-95team.csv', 'data/teams/95-96team.csv',\n",
    "          'data/teams/96-97team.csv', 'data/teams/97-98team.csv',\n",
    "          'data/teams/98-99team.csv']\n",
    "\n",
    "group3 = ['data/teams/99-00team.csv', 'data/teams/00-01team.csv',\n",
    "          'data/teams/01-02team.csv', 'data/teams/02-03team.csv',\n",
    "          'data/teams/03-04team.csv']\n",
    "\n",
    "group4 = ['data/teams/05-06team.csv', 'data/teams/06-07team.csv',\n",
    "          'data/teams/07-08team.csv', 'data/teams/08-09team.csv',\n",
    "          'data/teams/09-10team.csv']\n",
    "\n",
    "group5 = ['data/teams/10-11team.csv', 'data/teams/11-12team.csv',\n",
    "          'data/teams/12-13team.csv', 'data/teams/13-14team.csv',\n",
    "          'data/teams/14-15team.csv']\n",
    "\n",
    "group6 = ['data/teams/15-16team.csv', 'data/teams/16-17team.csv',\n",
    "          'data/teams/17-18team.csv', 'data/teams/18-19team.csv',\n",
    "          'data/teams/19-20team.csv']"
   ]
  },
  {
   "cell_type": "code",
   "execution_count": 22,
   "metadata": {},
   "outputs": [],
   "source": [
    "def combine_seasons_teams(seasons):\n",
    "    # load first season of group\n",
    "    final = pd.read_csv(seasons[0])\n",
    "    final = final[['Rk', 'Team', 'GP', 'W', 'L', 'PTS', 'PTS%', 'GF', 'GA',\n",
    "            'GF/G', 'GA/G', 'PP', 'PPO', 'PP%', 'PPA', 'PPOA', 'PK%',\n",
    "            'SH','SHA', 'PIM/G', 'oPIM/G', 'S', 'S%', 'SA', 'SV%', 'SO']]\n",
    "\n",
    "    # final = final.drop_duplicates(subset='Id', keep=\"first\")\n",
    "\n",
    "    for season in seasons[1:]:\n",
    "        df = pd.read_csv(season)\n",
    "        df = df[['Rk', 'Team', 'GP', 'W', 'L', 'PTS', 'PTS%', 'GF', 'GA', 'SRS',\n",
    "                'SOS', 'GF/G', 'GA/G', 'PP', 'PPO', 'PP%', 'PPA', 'PPOA', 'PK%',\n",
    "                'SH','SHA', 'PIM/G', 'oPIM/G', 'S', 'S%', 'SA', 'SV%', 'SO']]\n",
    "\n",
    "        final = pd.concat([final, df])\n",
    "\n",
    "    # group by player ID and get mean stats\n",
    "    final = final.groupby(['Team']).agg({'Rk': 'first',\n",
    "                                        'GP': 'sum',\n",
    "                                        'W': 'sum',\n",
    "                                        'L': 'sum',\n",
    "                                        'PTS': 'sum',\n",
    "                                        'PTS%': 'mean',\n",
    "                                        'GF': 'sum',\n",
    "                                        'GA': 'sum',\n",
    "                                        'GF/G': 'mean',\n",
    "                                        'GA/G': 'sum',\n",
    "                                        'PP': 'sum',\n",
    "                                        'PPO': 'sum',\n",
    "                                        'PP%': 'mean',\n",
    "                                        'PPA': 'sum',\n",
    "                                        'PPOA': 'sum',\n",
    "                                        'PK%': 'mean',\n",
    "                                        'SH': 'sum',\n",
    "                                        'SHA': 'sum',\n",
    "                                        'PIM/G': 'mean',\n",
    "                                        'oPIM/G': 'mean',\n",
    "                                        'S': 'sum',\n",
    "                                        'S%': 'mean',\n",
    "                                        'SA': 'sum',\n",
    "                                        'SV%': 'mean',\n",
    "                                        'SO': 'sum'})\n",
    "\n",
    "    final = final.reset_index()\n",
    "\n",
    "    return final"
   ]
  },
  {
   "cell_type": "code",
   "execution_count": 52,
   "metadata": {},
   "outputs": [
    {
     "data": {
      "text/plain": [
       "TOR    1\n",
       "CGY    1\n",
       "STL    1\n",
       "MDA    1\n",
       "SJS    1\n",
       "WSH    1\n",
       "NYI    1\n",
       "QUE    1\n",
       "HAR    1\n",
       "Name: Tm, dtype: int64"
      ]
     },
     "execution_count": 52,
     "metadata": {},
     "output_type": "execute_result"
    }
   ],
   "source": [
    "y = pd.read_csv('data/goons/goon1.csv')\n",
    "y.Tm.value_counts()"
   ]
  },
  {
   "cell_type": "code",
   "execution_count": 53,
   "metadata": {},
   "outputs": [
    {
     "data": {
      "text/plain": [
       "Index(['Team', 'Rk', 'GP', 'W', 'L', 'PTS', 'PTS%', 'GF', 'GA', 'GF/G', 'GA/G',\n",
       "       'PP', 'PPO', 'PP%', 'PPA', 'PPOA', 'PK%', 'SH', 'SHA', 'PIM/G',\n",
       "       'oPIM/G', 'S', 'S%', 'SA', 'SV%', 'SO'],\n",
       "      dtype='object')"
      ]
     },
     "execution_count": 53,
     "metadata": {},
     "output_type": "execute_result"
    }
   ],
   "source": [
    "x = combine_seasons_teams(group6)\n",
    "x.columns"
   ]
  },
  {
   "cell_type": "code",
   "execution_count": null,
   "metadata": {},
   "outputs": [],
   "source": [
    "#TODO\n",
    "# add goon total to each team\n",
    "'''\n",
    "Group 1:\n",
    "    'TOR': 'Toronto Maple Leafs'\n",
    "    'CGY': 'Calgary Flames'\n",
    "    'STL': 'St. Louis Blues'\n",
    "    'MDA': 'Mighty Ducks of Anaheim'\n",
    "    'SJS': 'San Jose Sharks'\n",
    "    'WSH': 'Washington Capitals'\n",
    "    'NYI': 'New York Islanders'\n",
    "    'QUE': 'Quebec Nordiques'\n",
    "    'HAR':'Hartford Whalers'\n",
    "\n",
    "Group 2:\n",
    "    'SJS': 'San Jose Sharks'\n",
    "    'MDA': 'Mighty Ducks of Anaheim'\n",
    "    'LAK': 'Los Angeles Kings'\n",
    "    'WSH': 'Washington Capitals'\n",
    "    'NJD': 'New Jersey Devils'\n",
    "    'TBL': 'Tampa Bay Lightning'\n",
    "    'PHI': 'Philadelphia Flyers'\n",
    "    'VAN': 'Vancouver Canucks'\n",
    "    'OTT': 'Ottawa Senators'\n",
    "    'PHX': 'Phoenix Coyotes'\n",
    "    'BOS': 'Boston Bruins'\n",
    "    'COL': 'Colorado Avalanche'\n",
    "    'NYI': 'New York Islanders'\n",
    "    'CGY': 'Calgary Flames'\n",
    "\n",
    "Group 3:\n",
    "    'MDA': 'Mighty Ducks of Anaheim'\n",
    "    'BUF': 'Buffalo Sabres'\n",
    "    'NSH': 'Nashville Predators'\n",
    "    'TOR': 'Toronto Maple Leafs'\n",
    "    'OTT': 'Ottawa Senators'\n",
    "    'WSH': 'Washington Capitals'\n",
    "    'VAN': 'Vancouver Canucks'\n",
    "    'BOS': 'Boston Bruins'\n",
    "    'STL': 'St. Louis Blues'\n",
    "    'CHI': 'Chicago Blackhawks'\n",
    "    'FLA': 'Florida Panthers'\n",
    "    'MTL': 'Montreal Canadiens'\n",
    "    'MIN': 'Minnesota Wild'\n",
    "    'NYR': New York Rangers'\n",
    "    'ATL': 'Atlanta Thrashers'\n",
    "    'COL': 'Colorado Avalanche'\n",
    "    'PIT': 'Pittsburgh Penguins'\n",
    "    'CAR': 'Carolina Hurricanes'\n",
    "    'LAK': 'Los Angeles Kings'\n",
    "    'DET': 'Detroit Red Wings'\n",
    "    'NYI': 'New York Islanders'\n",
    "\n",
    "Group 4:\n",
    "    'TOR': 'Toronto Maple Leafs'\n",
    "    'CHI': 'Chicago Blackhawks'\n",
    "    'PIT': 'Pittsburgh Penguins'\n",
    "    'LAK': 'Los Angeles Kings'\n",
    "    'MIN': 'Minnesota Wild'\n",
    "    'STL': 'St. Louis Blues'\n",
    "    'CGY': 'Calgary Flames'\n",
    "    'PHI': 'Philadelphia Flyers'\n",
    "    'ANA': 'Anaheim Ducks'\n",
    "    'NJD': 'New Jersey Devils'\n",
    "    'COL': 'Colorado Avalanche'\n",
    "    'SJS': 'San Jose Sharks'\n",
    "    'NSH': 'Nashville Predators'\n",
    "    'TBL': 'Tampa Bay Lightning'\n",
    "    'BOS': 'Boston Bruins'\n",
    "    'ATL': 'Atlanta Thrashers'\n",
    "    'PHX': 'Phoenix Coyotes'\n",
    "\n",
    "Group 5:\n",
    "    'PIT': 'Pittsburgh Penguins'\n",
    "    'MTL': 'Montreal Canadiens'\n",
    "    'NYI': 'New York Islanders'\n",
    "    'EDM': 'Edmonton Oilers'\n",
    "    'FLA': 'Florida Panthers'\n",
    "    'VAN': 'Vancouver Canucks'\n",
    "    'SJS': 'San Jose Sharks'\n",
    "    'COL': 'Colorado Avalanche'\n",
    "    'TOR': 'Toronto Maple Leafs'\n",
    "    'OTT': 'Ottawa Senators'\n",
    "    'PHI': 'Philadelphia Flyers'\n",
    "    'MIN': 'Minnesota Wild'\n",
    "    'CAR': 'Carolina Hurricanes'\n",
    "    'DAL': 'Dallas Stars'\n",
    "    'NJD': 'New Jersey Devils'\n",
    "    'WPG': 'Winnipeg Jets'\n",
    "    'CGY': 'Calgary Flames'\n",
    "    'PHX': 'Phoenix Coyotes'\n",
    "\n",
    "Group 6:\n",
    "    'CGY': 'Calgary Flames'\n",
    "    'SJS': 'San Jose Sharks'\n",
    "    'FLA': 'Florida Panthers'\n",
    "    'DET': 'Detroit Red Wings'\n",
    "    'ANA': 'Anaheim Ducks'\n",
    "    'WPG': 'Winnipeg Jets'\n",
    "    'NJD': 'New Jersey Devils'\n",
    "    'NYI': 'New York Islanders'\n",
    "\n",
    "'''"
   ]
  },
  {
   "cell_type": "code",
   "execution_count": null,
   "metadata": {},
   "outputs": [],
   "source": []
  },
  {
   "cell_type": "code",
   "execution_count": null,
   "metadata": {},
   "outputs": [],
   "source": []
  },
  {
   "cell_type": "code",
   "execution_count": null,
   "metadata": {},
   "outputs": [],
   "source": []
  },
  {
   "cell_type": "code",
   "execution_count": null,
   "metadata": {},
   "outputs": [],
   "source": []
  },
  {
   "cell_type": "code",
   "execution_count": null,
   "metadata": {},
   "outputs": [],
   "source": []
  },
  {
   "cell_type": "code",
   "execution_count": null,
   "metadata": {},
   "outputs": [],
   "source": []
  },
  {
   "cell_type": "code",
   "execution_count": null,
   "metadata": {},
   "outputs": [],
   "source": []
  }
 ],
 "metadata": {
  "kernelspec": {
   "display_name": "Python 3",
   "language": "python",
   "name": "python3"
  },
  "language_info": {
   "codemirror_mode": {
    "name": "ipython",
    "version": 3
   },
   "file_extension": ".py",
   "mimetype": "text/x-python",
   "name": "python",
   "nbconvert_exporter": "python",
   "pygments_lexer": "ipython3",
   "version": "3.9.6"
  },
  "orig_nbformat": 4,
  "vscode": {
   "interpreter": {
    "hash": "a47e1e2c49c050a34b8a1fd5e73ef0ffb5353ba12db54c1637a8441d5d8b2e0f"
   }
  }
 },
 "nbformat": 4,
 "nbformat_minor": 2
}
