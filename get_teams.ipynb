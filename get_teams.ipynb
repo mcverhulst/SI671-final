{
 "cells": [
  {
   "cell_type": "code",
   "execution_count": 67,
   "metadata": {},
   "outputs": [],
   "source": [
    "import pandas as pd\n",
    "import seaborn as sns\n",
    "import numpy as np\n",
    "import matplotlib.pyplot as plt\n",
    "import matplotlib.cm as cm\n",
    "import cluster_utils as utl"
   ]
  },
  {
   "cell_type": "code",
   "execution_count": 68,
   "metadata": {},
   "outputs": [],
   "source": [
    "group1 = ['data/teams/89-90team.csv', 'data/teams/90-91team.csv',\n",
    "          'data/teams/91-92team.csv', 'data/teams/92-93team.csv',\n",
    "          'data/teams/93-94team.csv']\n",
    "\n",
    "group2 = ['data/teams/94-95team.csv', 'data/teams/95-96team.csv',\n",
    "          'data/teams/96-97team.csv', 'data/teams/97-98team.csv',\n",
    "          'data/teams/98-99team.csv']\n",
    "\n",
    "group3 = ['data/teams/99-00team.csv', 'data/teams/00-01team.csv',\n",
    "          'data/teams/01-02team.csv', 'data/teams/02-03team.csv',\n",
    "          'data/teams/03-04team.csv']\n",
    "\n",
    "group4 = ['data/teams/05-06team.csv', 'data/teams/06-07team.csv',\n",
    "          'data/teams/07-08team.csv', 'data/teams/08-09team.csv',\n",
    "          'data/teams/09-10team.csv']\n",
    "\n",
    "group5 = ['data/teams/10-11team.csv', 'data/teams/11-12team.csv',\n",
    "          'data/teams/12-13team.csv', 'data/teams/13-14team.csv',\n",
    "          'data/teams/14-15team.csv']\n",
    "\n",
    "group6 = ['data/teams/15-16team.csv', 'data/teams/16-17team.csv',\n",
    "          'data/teams/17-18team.csv', 'data/teams/18-19team.csv',\n",
    "          'data/teams/19-20team.csv']"
   ]
  },
  {
   "cell_type": "code",
   "execution_count": 69,
   "metadata": {},
   "outputs": [],
   "source": [
    "def combine_seasons_teams(seasons):\n",
    "    # load first season of group\n",
    "    final = pd.read_csv(seasons[0])\n",
    "    final = final[['Rk', 'Team', 'GP', 'W', 'L', 'PTS', 'PTS%', 'GF', 'GA',\n",
    "            'GF/G', 'GA/G', 'PP', 'PPO', 'PP%', 'PPA', 'PPOA', 'PK%',\n",
    "            'SH','SHA', 'PIM/G', 'oPIM/G', 'S', 'S%', 'SA', 'SV%', 'SO']]\n",
    "\n",
    "    # final = final.drop_duplicates(subset='Id', keep=\"first\")\n",
    "\n",
    "    for season in seasons[1:]:\n",
    "        df = pd.read_csv(season)\n",
    "        df = df[['Rk', 'Team', 'GP', 'W', 'L', 'PTS', 'PTS%', 'GF', 'GA', 'SRS',\n",
    "                'SOS', 'GF/G', 'GA/G', 'PP', 'PPO', 'PP%', 'PPA', 'PPOA', 'PK%',\n",
    "                'SH','SHA', 'PIM/G', 'oPIM/G', 'S', 'S%', 'SA', 'SV%', 'SO']]\n",
    "\n",
    "        final = pd.concat([final, df])\n",
    "\n",
    "    # group by player ID and get mean stats\n",
    "    final = final.groupby(['Team']).agg({'Rk': 'first',\n",
    "                                        'GP': 'sum',\n",
    "                                        'W': 'sum',\n",
    "                                        'L': 'sum',\n",
    "                                        'PTS': 'sum',\n",
    "                                        'PTS%': 'mean',\n",
    "                                        'GF': 'sum',\n",
    "                                        'GA': 'sum',\n",
    "                                        'GF/G': 'mean',\n",
    "                                        'GA/G': 'sum',\n",
    "                                        'PP': 'sum',\n",
    "                                        'PPO': 'sum',\n",
    "                                        'PP%': 'mean',\n",
    "                                        'PPA': 'sum',\n",
    "                                        'PPOA': 'sum',\n",
    "                                        'PK%': 'mean',\n",
    "                                        'SH': 'sum',\n",
    "                                        'SHA': 'sum',\n",
    "                                        'PIM/G': 'mean',\n",
    "                                        'oPIM/G': 'mean',\n",
    "                                        'S': 'sum',\n",
    "                                        'S%': 'mean',\n",
    "                                        'SA': 'sum',\n",
    "                                        'SV%': 'mean',\n",
    "                                        'SO': 'sum'})\n",
    "\n",
    "    final = final.reset_index()\n",
    "\n",
    "    return final"
   ]
  },
  {
   "cell_type": "code",
   "execution_count": 71,
   "metadata": {},
   "outputs": [],
   "source": [
    "group1 = combine_seasons_teams(group1)\n",
    "group2 = combine_seasons_teams(group2)\n",
    "group3 = combine_seasons_teams(group3)\n",
    "group4 = combine_seasons_teams(group4)\n",
    "group5 = combine_seasons_teams(group5)\n",
    "group6 = combine_seasons_teams(group6)\n",
    "\n",
    "# group1.to_csv('data/groups/group1team.csv', index=False)\n",
    "# group2.to_csv('data/groups/group2team.csv', index=False)\n",
    "# group3.to_csv('data/groups/group3team.csv', index=False)\n",
    "# group4.to_csv('data/groups/group4team.csv', index=False)\n",
    "# group5.to_csv('data/groups/group5team.csv', index=False)\n",
    "# group6.to_csv('data/groups/group6team.csv', index=False)\n"
   ]
  },
  {
   "cell_type": "code",
   "execution_count": 78,
   "metadata": {},
   "outputs": [],
   "source": [
    "group1t = pd.read_csv('data/groups/group1team.csv')\n",
    "group2t = pd.read_csv('data/groups/group2team.csv')\n",
    "group3t = pd.read_csv('data/groups/group3team.csv')\n",
    "group4t = pd.read_csv('data/groups/group4team.csv')\n",
    "group5t = pd.read_csv('data/groups/group5team.csv')\n",
    "group6t = pd.read_csv('data/groups/group6team.csv')"
   ]
  },
  {
   "cell_type": "code",
   "execution_count": 79,
   "metadata": {},
   "outputs": [
    {
     "data": {
      "text/plain": [
       "Index(['Team', 'Goon', 'Rk', 'GP', 'W', 'L', 'PTS', 'PTS%', 'GF', 'GA', 'GF/G',\n",
       "       'GA/G', 'PP', 'PPO', 'PP%', 'PPA', 'PPOA', 'PK%', 'SH', 'SHA', 'PIM/G',\n",
       "       'oPIM/G', 'S', 'S%', 'SA', 'SV%', 'SO'],\n",
       "      dtype='object')"
      ]
     },
     "execution_count": 79,
     "metadata": {},
     "output_type": "execute_result"
    }
   ],
   "source": [
    "group1t.columns"
   ]
  },
  {
   "cell_type": "code",
   "execution_count": 87,
   "metadata": {},
   "outputs": [
    {
     "data": {
      "text/plain": [
       "<AxesSubplot:xlabel='W', ylabel='Team'>"
      ]
     },
     "execution_count": 87,
     "metadata": {},
     "output_type": "execute_result"
    },
    {
     "data": {
      "image/png": "[encoded data removed]",
      "text/plain": [
       "<Figure size 432x288 with 1 Axes>"
      ]
     },
     "metadata": {
      "needs_background": "light"
     },
     "output_type": "display_data"
    }
   ],
   "source": [
    "order = group1t.sort_values(by='W', ascending=False).Team.values\n",
    "sns.barplot(data=group1t, x='W', y='Team', hue='Goon', order=order)"
   ]
  },
  {
   "cell_type": "code",
   "execution_count": null,
   "metadata": {},
   "outputs": [],
   "source": []
  },
  {
   "cell_type": "code",
   "execution_count": null,
   "metadata": {},
   "outputs": [],
   "source": []
  },
  {
   "cell_type": "code",
   "execution_count": null,
   "metadata": {},
   "outputs": [],
   "source": []
  },
  {
   "cell_type": "code",
   "execution_count": null,
   "metadata": {},
   "outputs": [],
   "source": []
  },
  {
   "cell_type": "code",
   "execution_count": null,
   "metadata": {},
   "outputs": [],
   "source": []
  }
 ],
 "metadata": {
  "kernelspec": {
   "display_name": "Python 3",
   "language": "python",
   "name": "python3"
  },
  "language_info": {
   "codemirror_mode": {
    "name": "ipython",
    "version": 3
   },
   "file_extension": ".py",
   "mimetype": "text/x-python",
   "name": "python",
   "nbconvert_exporter": "python",
   "pygments_lexer": "ipython3",
   "version": "3.9.6"
  },
  "orig_nbformat": 4,
  "vscode": {
   "interpreter": {
    "hash": "a47e1e2c49c050a34b8a1fd5e73ef0ffb5353ba12db54c1637a8441d5d8b2e0f"
   }
  }
 },
 "nbformat": 4,
 "nbformat_minor": 2
}
