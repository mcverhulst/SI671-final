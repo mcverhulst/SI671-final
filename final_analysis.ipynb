{
 "cells": [
  {
   "cell_type": "code",
   "execution_count": 29,
   "metadata": {},
   "outputs": [],
   "source": [
    "import pandas as pd\n",
    "import seaborn as sns\n",
    "import numpy as np\n",
    "import matplotlib.pyplot as plt\n",
    "import matplotlib.cm as cm\n",
    "from sklearn.decomposition import PCA\n",
    "from sklearn.cluster import AgglomerativeClustering\n",
    "from sklearn.preprocessing import StandardScaler, normalize\n",
    "from sklearn.metrics import silhouette_score, silhouette_samples\n",
    "from sklearn.pipeline import Pipeline\n",
    "from sklearn.impute import SimpleImputer\n",
    "from sklearn.cluster import KMeans\n",
    "import cluster_utils as utl"
   ]
  },
  {
   "attachments": {},
   "cell_type": "markdown",
   "metadata": {},
   "source": [
    "### Loading the data"
   ]
  },
  {
   "cell_type": "code",
   "execution_count": 30,
   "metadata": {},
   "outputs": [],
   "source": [
    "# loading players\n",
    "g1f = pd.read_csv('cluster_results/final_clusters/g1_f.csv')\n",
    "g1d = pd.read_csv('cluster_results/final_clusters/g1_d.csv')\n",
    "\n",
    "g2f = pd.read_csv('cluster_results/final_clusters/g2_f.csv')\n",
    "g2d = pd.read_csv('cluster_results/final_clusters/g2_d.csv')\n",
    "\n",
    "g3f = pd.read_csv('cluster_results/final_clusters/g3_f.csv')\n",
    "g3d = pd.read_csv('cluster_results/final_clusters/g3_d.csv')\n",
    "\n",
    "g4f = pd.read_csv('cluster_results/final_clusters/g4_f.csv')\n",
    "g4d = pd.read_csv('cluster_results/final_clusters/g4_d.csv')\n",
    "\n",
    "g5f = pd.read_csv('cluster_results/final_clusters/g5_f.csv')\n",
    "g5d = pd.read_csv('cluster_results/final_clusters/g5_d.csv')\n",
    "\n",
    "g6f = pd.read_csv('cluster_results/final_clusters/g6_f.csv')\n",
    "g6d = pd.read_csv('cluster_results/final_clusters/g6_d.csv')"
   ]
  },
  {
   "cell_type": "code",
   "execution_count": 31,
   "metadata": {},
   "outputs": [],
   "source": [
    "# loading goons\n",
    "goon1 = pd.read_csv('data/goons/goon1.csv')\n",
    "goon2 = pd.read_csv('data/goons/goon2.csv')\n",
    "goon3 = pd.read_csv('data/goons/goon3.csv')\n",
    "goon4 = pd.read_csv('data/goons/goon4.csv')\n",
    "goon5 = pd.read_csv('data/goons/goon5.csv')\n",
    "goon6 = pd.read_csv('data/goons/goon6.csv')\n",
    "\n",
    "goon_list1 = goon1['Player'].unique()\n",
    "goon_list2 = goon2['Player'].unique()\n",
    "goon_list3 = goon3['Player'].unique()\n",
    "goon_list4 = goon4['Player'].unique()\n",
    "goon_list5 = goon5['Player'].unique()\n",
    "goon_list6 = goon6['Player'].unique()"
   ]
  },
  {
   "cell_type": "code",
   "execution_count": 32,
   "metadata": {},
   "outputs": [],
   "source": [
    "# adding goon indicator to final dfs\n",
    "df_list = [g1f, g1d, g2f, g2d, g3f, g3d, g4f, g4d, g5f, g5d, g6f, g6d]\n",
    "\n",
    "for df in df_list:\n",
    "    df['goon'] = 0\n",
    "\n",
    "g1f.loc[g1f.Player.isin(goon_list1), \"goon\"] = int(1)\n",
    "g1d.loc[g1d.Player.isin(goon_list1), \"goon\"] = int(1)\n",
    "\n",
    "g2f.loc[g2f.Player.isin(goon_list2), \"goon\"] = int(1)\n",
    "g2d.loc[g2d.Player.isin(goon_list2), \"goon\"] = int(1)\n",
    "\n",
    "g3f.loc[g3f.Player.isin(goon_list3), \"goon\"] = int(1)\n",
    "g3d.loc[g3d.Player.isin(goon_list3), \"goon\"] = int(1)\n",
    "\n",
    "g4f.loc[g4f.Player.isin(goon_list4), \"goon\"] = int(1)\n",
    "g4d.loc[g4d.Player.isin(goon_list4), \"goon\"] = int(1)\n",
    "\n",
    "g5f.loc[g5f.Player.isin(goon_list5), \"goon\"] = int(1)\n",
    "g5d.loc[g5d.Player.isin(goon_list5), \"goon\"] = int(1)\n",
    "\n",
    "g6f.loc[g6f.Player.isin(goon_list6), \"goon\"] = int(1)\n",
    "g6d.loc[g6d.Player.isin(goon_list6), \"goon\"] = int(1)\n"
   ]
  },
  {
   "attachments": {},
   "cell_type": "markdown",
   "metadata": {},
   "source": [
    "### Analysis"
   ]
  },
  {
   "cell_type": "code",
   "execution_count": 37,
   "metadata": {},
   "outputs": [
    {
     "data": {
      "text/plain": [
       "0    701\n",
       "1     17\n",
       "Name: goon, dtype: int64"
      ]
     },
     "execution_count": 37,
     "metadata": {},
     "output_type": "execute_result"
    }
   ],
   "source": []
  },
  {
   "cell_type": "code",
   "execution_count": null,
   "metadata": {},
   "outputs": [],
   "source": []
  },
  {
   "cell_type": "code",
   "execution_count": null,
   "metadata": {},
   "outputs": [],
   "source": []
  },
  {
   "cell_type": "code",
   "execution_count": null,
   "metadata": {},
   "outputs": [],
   "source": []
  }
 ],
 "metadata": {
  "kernelspec": {
   "display_name": "Python 3",
   "language": "python",
   "name": "python3"
  },
  "language_info": {
   "codemirror_mode": {
    "name": "ipython",
    "version": 3
   },
   "file_extension": ".py",
   "mimetype": "text/x-python",
   "name": "python",
   "nbconvert_exporter": "python",
   "pygments_lexer": "ipython3",
   "version": "3.9.6"
  },
  "orig_nbformat": 4,
  "vscode": {
   "interpreter": {
    "hash": "a47e1e2c49c050a34b8a1fd5e73ef0ffb5353ba12db54c1637a8441d5d8b2e0f"
   }
  }
 },
 "nbformat": 4,
 "nbformat_minor": 2
}
